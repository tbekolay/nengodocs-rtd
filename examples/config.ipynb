{
 "metadata": {
  "name": ""
 },
 "nbformat": 3,
 "nbformat_minor": 0,
 "worksheets": [
  {
   "cells": [
    {
     "cell_type": "markdown",
     "metadata": {},
     "source": [
      "# The `config` system\n",
      "\n",
      "Nengo objects have many parameters\n",
      "that can be modified.\n",
      "Some of these parameters\n",
      "are critical characteristics of that object,\n",
      "and others are hints or suggestions\n",
      "that a backend can use or ignore.\n",
      "\n",
      "Nengo's `config` system is designed\n",
      "to make setting large numbers of parameters easy,\n",
      "and to allow backends\n",
      "to introduce additional parameters\n",
      "without changing core Nengo objects."
     ]
    },
    {
     "cell_type": "code",
     "collapsed": false,
     "input": [
      "from __future__ import print_function\n",
      "\n",
      "import numpy as np\n",
      "import matplotlib.pyplot as plt\n",
      "%matplotlib inline\n",
      "\n",
      "import nengo\n",
      "%load_ext nengo.ipynb\n",
      "from nengo.utils.functions import piecewise\n",
      "from nengo.utils.ipython import hide_input\n",
      "hide_input()"
     ],
     "language": "python",
     "metadata": {},
     "outputs": [
      {
       "output_type": "display_data",
       "text": [
        "<IPython.core.display.Javascript at 0x7f12e12878d0>"
       ]
      },
      {
       "html": [
        "\n",
        "        <a id=\"19434326\" href=\"javascript:toggle_input_19434326()\"\n",
        "          >Show Input</a>\n",
        "\n",
        "        <script type=\"text/javascript\">\n",
        "        var toggle_input_19434326;\n",
        "        (function() {\n",
        "            if (typeof jQuery == 'undefined') {\n",
        "                // no jQuery\n",
        "                var link_19434326 = document.getElementById(\"19434326\");\n",
        "                var cell = link_19434326;\n",
        "                while (cell.className.split(' ')[0] != \"cell\") {\n",
        "                    cell = cell.parentNode;\n",
        "                }\n",
        "                var input_19434326;\n",
        "                for (var i = 0; i < cell.children.length; i++) {\n",
        "                    if (cell.children[i].className.split(' ')[0] == \"input\")\n",
        "                        input_19434326 = cell.children[i];\n",
        "                }\n",
        "                input_19434326.style.display = \"none\"; // hide\n",
        "\n",
        "                toggle_input_19434326 = function() {\n",
        "                    if (input_19434326.style.display == \"none\") {\n",
        "                        input_19434326.style.display = \"\"; // show\n",
        "                        link_19434326.innerHTML = \"Hide Input\";\n",
        "                    } else {\n",
        "                        input_19434326.style.display = \"none\"; // hide\n",
        "                        link_19434326.innerHTML = \"Show Input\";\n",
        "                    }\n",
        "                }\n",
        "\n",
        "            } else {\n",
        "                // jQuery\n",
        "                var link_19434326 = $(\"a[id='19434326']\");\n",
        "                var cell_19434326 = link_19434326.parents(\"div.cell:first\");\n",
        "                var input_19434326 = cell_19434326.children(\"div.input\");\n",
        "                input_19434326.hide();\n",
        "\n",
        "                toggle_input_19434326 = function() {\n",
        "                    if (input_19434326.is(':hidden')) {\n",
        "                        input_19434326.slideDown();\n",
        "                        link_19434326[0].innerHTML = \"Hide Input\";\n",
        "                    } else {\n",
        "                        input_19434326.slideUp();\n",
        "                        link_19434326[0].innerHTML = \"Show Input\";\n",
        "                    }\n",
        "                }\n",
        "            }\n",
        "        }());\n",
        "        </script>\n",
        "    "
       ],
       "output_type": "pyout",
       "prompt_number": 1,
       "text": [
        "<IPython.core.display.HTML at 0x7f12a94e8f50>"
       ]
      }
     ],
     "prompt_number": 1
    },
    {
     "cell_type": "markdown",
     "metadata": {},
     "source": [
      "## Setting default parameters\n",
      "\n",
      "The `config` system aids in\n",
      "setting many parameters\n",
      "with a **hierarchy of defaults**.\n",
      "When you create a Nengo object,\n",
      "any parameters not specified\n",
      "will be given the value `nengo.Default`.\n",
      "This value tells Nengo\n",
      "to use the default value\n",
      "with the highest precendence\n",
      "in the hierarchy.\n",
      "Every `Network` has an associated\n",
      "`config` object,\n",
      "on which defaults can be set.\n",
      "The network hierarchy is traversed\n",
      "from most to least specific\n",
      "and the first network with a default\n",
      "set for that particular parameter\n",
      "is used. For example:\n",
      "\n",
      "    with nengo.Network() as net:\n",
      "        with nengo.Network() as subnet:\n",
      "            with nengo.Network() as subsubnet:\n",
      "                ens = nengo.Ensemble(10, 1)\n",
      "\n",
      "When filling in defaults for `ens`,\n",
      "the hierarchy looks like\n",
      "\n",
      "    \u2514\u2500\u2500 net                <- least specific\n",
      "        \u2514\u2500\u2500 subnet\n",
      "            \u2514\u2500\u2500 subsubnet  <- most specific\n",
      "\n",
      "so defaults set in `subsubnet`\n",
      "will take precedence over those in `subnet`,\n",
      "which take precedence over those in `net`.\n",
      "\n",
      "If no default has been set in the\n",
      "network hierarchy,\n",
      "then the parameter default\n",
      "is used.\n",
      "These defaults are specified\n",
      "when the Nengo objects are created.\n",
      "We can investigate these defaults\n",
      "by printing the class attributes\n",
      "associated with them."
     ]
    },
    {
     "cell_type": "code",
     "collapsed": false,
     "input": [
      "# Get all info about the radius\n",
      "print(nengo.Ensemble.radius)\n",
      "# Just get the default\n",
      "print(nengo.Ensemble.radius.default)"
     ],
     "language": "python",
     "metadata": {},
     "outputs": [
      {
       "output_type": "stream",
       "stream": "stdout",
       "text": [
        "NumberParam(default=1.0, optional=False, readonly=False)\n",
        "1.0\n"
       ]
      }
     ],
     "prompt_number": 2
    },
    {
     "cell_type": "markdown",
     "metadata": {},
     "source": [
      "We can inspect which defaults\n",
      "have been overridden in a\n",
      "particular `config` object\n",
      "by printing it.\n"
     ]
    },
    {
     "cell_type": "code",
     "collapsed": false,
     "input": [
      "model = nengo.Network()\n",
      "print(model.config)"
     ],
     "language": "python",
     "metadata": {},
     "outputs": [
      {
       "output_type": "stream",
       "stream": "stdout",
       "text": [
        "No parameters configured for Connection.\n",
        "No parameters configured for Ensemble.\n",
        "No parameters configured for Probe.\n",
        "No parameters configured for Node.\n"
       ]
      }
     ],
     "prompt_number": 3
    },
    {
     "cell_type": "markdown",
     "metadata": {},
     "source": [
      "To configure a parameter\n",
      "(i.e., change its network-local default),\n",
      "set it as shown below."
     ]
    },
    {
     "cell_type": "code",
     "collapsed": false,
     "input": [
      "model.config[nengo.Ensemble].radius = 1.5\n",
      "print(model.config[nengo.Ensemble])"
     ],
     "language": "python",
     "metadata": {},
     "outputs": [
      {
       "output_type": "stream",
       "stream": "stdout",
       "text": [
        "Parameters configured for Ensemble:\n",
        "  radius: 1.5\n"
       ]
      }
     ],
     "prompt_number": 4
    },
    {
     "cell_type": "markdown",
     "metadata": {},
     "source": [
      "Within this network, the default radius will be 1.5."
     ]
    },
    {
     "cell_type": "code",
     "collapsed": false,
     "input": [
      "with nengo.Network():\n",
      "    ens = nengo.Ensemble(10, 1)\n",
      "print(\"Normal network: ens.radius = %s\" % ens.radius)\n",
      "\n",
      "with model:\n",
      "    ens = nengo.Ensemble(10, 1)\n",
      "print(\"Configured network: ens.radius = %s\" % ens.radius)"
     ],
     "language": "python",
     "metadata": {},
     "outputs": [
      {
       "output_type": "stream",
       "stream": "stdout",
       "text": [
        "Normal network: ens.radius = 1.0\n",
        "Configured network: ens.radius = 1.5\n"
       ]
      }
     ],
     "prompt_number": 5
    },
    {
     "cell_type": "markdown",
     "metadata": {},
     "source": [
      "Note that if a radius is explicitly passed in,\n",
      "it will always be used."
     ]
    },
    {
     "cell_type": "code",
     "collapsed": false,
     "input": [
      "with nengo.Network():\n",
      "    ens = nengo.Ensemble(10, 1, radius=2.0)\n",
      "print(\"Normal network: ens.radius = %s\" % ens.radius)\n",
      "\n",
      "with model:\n",
      "    ens = nengo.Ensemble(10, 1, radius=2.0)\n",
      "print(\"Configured network: ens.radius = %s\" % ens.radius)"
     ],
     "language": "python",
     "metadata": {},
     "outputs": [
      {
       "output_type": "stream",
       "stream": "stdout",
       "text": [
        "Normal network: ens.radius = 2.0\n",
        "Configured network: ens.radius = 2.0\n"
       ]
      }
     ],
     "prompt_number": 6
    },
    {
     "cell_type": "markdown",
     "metadata": {},
     "source": [
      "When networks are nested within one another,\n",
      "the most specific network configuration is used.\n",
      "For example, if you create an Ensemble\n",
      "without specifying a radius,\n",
      "it will first check the network\n",
      "that the Ensemble is a part of;\n",
      "if that network has not configured a default,\n",
      "then it will check the network\n",
      "that that network is part of,\n",
      "and so on."
     ]
    },
    {
     "cell_type": "code",
     "collapsed": false,
     "input": [
      "with model:\n",
      "    \n",
      "    with nengo.Network() as subnet:\n",
      "        subnet.config[nengo.Ensemble].neuron_type = nengo.LIFRate()\n",
      "        \n",
      "        with nengo.Network() as subsubnet:\n",
      "            subsubnet.config[nengo.Ensemble].radius = 2.0\n",
      "            print(\"Creating e1 in subsubnet\")\n",
      "            e1 = nengo.Ensemble(10, 1)\n",
      "            # Uses subsubnet.config value for radius\n",
      "            print(\"  radius =\", e1.radius)\n",
      "            # Uses subnet.config value for neuron_type\n",
      "            print(\"  neuron_type =\", e1.neuron_type)\n",
      "\n",
      "        print(\"Creating e2 in subnet\")\n",
      "        e2 = nengo.Ensemble(10, 1)\n",
      "        # Uses model.config value for radius\n",
      "        print(\"  radius =\", e2.radius)\n",
      "        # Uses subnet.config value for neuron_type\n",
      "        print(\"  neuron_type =\", e2.neuron_type)\n",
      "        \n",
      "    print(\"Creating e3 in model\")\n",
      "    e3 = nengo.Ensemble(10, 1)\n",
      "    # Uses model.config value for radius\n",
      "    print(\"  radius =\", e3.radius)\n",
      "    # Uses nengo.Ensemble default for neuron_type\n",
      "    print(\"  neuron_type =\", e3.neuron_type)"
     ],
     "language": "python",
     "metadata": {},
     "outputs": [
      {
       "output_type": "stream",
       "stream": "stdout",
       "text": [
        "Creating e1 in subsubnet\n",
        "  radius = 2.0\n",
        "  neuron_type = LIFRate()\n",
        "Creating e2 in subnet\n",
        "  radius = 1.5\n",
        "  neuron_type = LIFRate()\n",
        "Creating e3 in model\n",
        "  radius = 1.5\n",
        "  neuron_type = LIF()\n"
       ]
      }
     ],
     "prompt_number": 7
    },
    {
     "cell_type": "markdown",
     "metadata": {},
     "source": [
      "Note that each `config` object\n",
      "only knows about the defaults set on itself."
     ]
    },
    {
     "cell_type": "code",
     "collapsed": false,
     "input": [
      "with model:\n",
      "    with nengo.Network() as subnet:\n",
      "        subnet.config[nengo.Ensemble].neuron_type = nengo.LIFRate()\n",
      "        with nengo.Network() as subsubnet:\n",
      "            subsubnet.config[nengo.Ensemble].radius = 2.0\n",
      "print(\"subsubnet:\")\n",
      "print(subsubnet.config[nengo.Ensemble])\n",
      "print(\"\\nsubnet:\")\n",
      "print(subnet.config[nengo.Ensemble])\n",
      "print(\"\\nmodel:\")\n",
      "print(model.config[nengo.Ensemble])"
     ],
     "language": "python",
     "metadata": {},
     "outputs": [
      {
       "output_type": "stream",
       "stream": "stdout",
       "text": [
        "subsubnet:\n",
        "Parameters configured for Ensemble:\n",
        "  radius: 2.0\n",
        "\n",
        "subnet:\n",
        "Parameters configured for Ensemble:\n",
        "  neuron_type: LIFRate()\n",
        "\n",
        "model:\n",
        "Parameters configured for Ensemble:\n",
        "  radius: 1.5\n"
       ]
      }
     ],
     "prompt_number": 8
    },
    {
     "cell_type": "markdown",
     "metadata": {},
     "source": [
      "If you want a more global picture of the defaults\n",
      "in the *current context*, you can query the `Config`\n",
      "class itself (all `config` objects are instances of `Config`).\n",
      "\n",
      "To query all parameters, print `Config.all_defaults()`.\n",
      "You may pass a Nengo object class to this function\n",
      "to filter the results.\n",
      "For example, to get all defaults set for `Ensemble`,\n",
      "use `Config.all_defaults(nengo.Ensemble)`."
     ]
    },
    {
     "cell_type": "code",
     "collapsed": false,
     "input": [
      "with model:\n",
      "    print(\"In 'model' context:\")\n",
      "    print(nengo.Config.all_defaults())\n",
      "\n",
      "    with nengo.Network() as subnet:\n",
      "        subnet.config[nengo.Ensemble].neuron_type = nengo.LIFRate()\n",
      "        subnet.config[nengo.Ensemble].radius = 3.0\n",
      "        print(\"\\nIn 'subnet' context:\")\n",
      "        print(nengo.Config.all_defaults(nengo.Ensemble))\n",
      "\n",
      "        with nengo.Network() as subsubnet:\n",
      "            subsubnet.config[nengo.Ensemble].neuron_type = nengo.Direct()\n",
      "            subsubnet.config[nengo.Ensemble].radius = 2.0\n",
      "            print(\"\\nIn 'subsubnet' context:\")\n",
      "            print(nengo.Config.all_defaults(nengo.Ensemble))"
     ],
     "language": "python",
     "metadata": {},
     "outputs": [
      {
       "output_type": "stream",
       "stream": "stdout",
       "text": [
        "In 'model' context:\n",
        "Current defaults for Connection:\n",
        "  eval_points: None\n",
        "  function_info: None\n",
        "  label: None\n",
        "  learning_rule_type: None\n",
        "  scale_eval_points: True\n",
        "  seed: None\n",
        "  solver: LstsqL2()\n",
        "  synapse: Lowpass(0.005)\n",
        "  transform: 1.0\n",
        "Current defaults for Node:\n",
        "  label: None\n",
        "  output: None\n",
        "  seed: None\n",
        "  size_in: None\n",
        "  size_out: None\n",
        "Current defaults for Ensemble:\n",
        "  bias: None\n",
        "  dimensions: None\n",
        "  encoders: UniformHypersphere(surface=True)\n",
        "  eval_points: UniformHypersphere()\n",
        "  gain: None\n",
        "  intercepts: Uniform(low=-1.0, high=1.0)\n",
        "  label: None\n",
        "  max_rates: Uniform(low=200, high=400)\n",
        "  n_eval_points: None\n",
        "  n_neurons: None\n",
        "  neuron_type: LIF()\n",
        "  noise: None\n",
        "  radius: 1.5\n",
        "  seed: None\n",
        "Current defaults for Probe:\n",
        "  attr: None\n",
        "  label: None\n",
        "  sample_every: None\n",
        "  seed: None\n",
        "  solver: ConnectionDefault\n",
        "  synapse: None\n",
        "\n",
        "In 'subnet' context:\n",
        "Current defaults for Ensemble:\n",
        "  bias: None\n",
        "  dimensions: None\n",
        "  encoders: UniformHypersphere(surface=True)\n",
        "  eval_points: UniformHypersphere()\n",
        "  gain: None\n",
        "  intercepts: Uniform(low=-1.0, high=1.0)\n",
        "  label: None\n",
        "  max_rates: Uniform(low=200, high=400)\n",
        "  n_eval_points: None\n",
        "  n_neurons: None\n",
        "  neuron_type: LIFRate()\n",
        "  noise: None\n",
        "  radius: 3.0\n",
        "  seed: None\n",
        "\n",
        "In 'subsubnet' context:\n",
        "Current defaults for Ensemble:\n",
        "  bias: None\n",
        "  dimensions: None\n",
        "  encoders: UniformHypersphere(surface=True)\n",
        "  eval_points: UniformHypersphere()\n",
        "  gain: None\n",
        "  intercepts: Uniform(low=-1.0, high=1.0)\n",
        "  label: None\n",
        "  max_rates: Uniform(low=200, high=400)\n",
        "  n_eval_points: None\n",
        "  n_neurons: None\n",
        "  neuron_type: Direct()\n",
        "  noise: None\n",
        "  radius: 2.0\n",
        "  seed: None\n"
       ]
      }
     ],
     "prompt_number": 9
    },
    {
     "cell_type": "markdown",
     "metadata": {},
     "source": [
      "The default value for a particular parameter\n",
      "can be queried from the global context\n",
      "with the `nengo.Config.default` function."
     ]
    },
    {
     "cell_type": "code",
     "collapsed": false,
     "input": [
      "help(nengo.Config.default)"
     ],
     "language": "python",
     "metadata": {},
     "outputs": [
      {
       "output_type": "stream",
       "stream": "stdout",
       "text": [
        "Help on function default in module nengo.config:\n",
        "\n",
        "default(nengo_cls, param)\n",
        "    Look up the current default value for a parameter.\n",
        "    \n",
        "    The default is found by going through the config stack, from most\n",
        "    specific to least specific. The network that an object is in\n",
        "    is the most specific; the top-level network is the least specific.\n",
        "    If no default is found there, then the parameter's default value\n",
        "    is returned.\n",
        "\n"
       ]
      }
     ],
     "prompt_number": 10
    },
    {
     "cell_type": "code",
     "collapsed": false,
     "input": [
      "def print_defaults():\n",
      "    def_radius = nengo.Config.default(nengo.Ensemble, 'radius')\n",
      "    def_type = nengo.Config.default(nengo.Ensemble, 'neuron_type')\n",
      "    print(\"  default radius: %s\" % def_radius)\n",
      "    print(\"  default neuron_type: %s\" % def_type)\n",
      " \n",
      "with model:\n",
      "    with nengo.Network() as subnet:\n",
      "        subnet.config[nengo.Ensemble].neuron_type = nengo.LIFRate()\n",
      "        with nengo.Network() as subsubnet:\n",
      "            subsubnet.config[nengo.Ensemble].radius = 2.0\n",
      "            print(\"subsubnet:\")\n",
      "            print_defaults()\n",
      "        print(\"\\nsubnet:\")\n",
      "        print_defaults()\n",
      "    print(\"\\nmodel:\")\n",
      "    print_defaults()"
     ],
     "language": "python",
     "metadata": {},
     "outputs": [
      {
       "output_type": "stream",
       "stream": "stdout",
       "text": [
        "subsubnet:\n",
        "  default radius: 2.0\n",
        "  default neuron_type: LIFRate()\n",
        "\n",
        "subnet:\n",
        "  default radius: 1.5\n",
        "  default neuron_type: LIFRate()\n",
        "\n",
        "model:\n",
        "  default radius: 1.5\n",
        "  default neuron_type: LIF()\n"
       ]
      }
     ],
     "prompt_number": 11
    },
    {
     "cell_type": "markdown",
     "metadata": {},
     "source": [
      "#### Defaults are filled in immediately\n",
      "\n",
      "One important feature about the defaults hierarchy\n",
      "is that defaults are filled in **immediately**.\n",
      "When you create a Nengo object,\n",
      "the attributes are filled in with the **current**\n",
      "defaults that are set.\n",
      "Changing the defaults after object creation\n",
      "will not update objects already created."
     ]
    },
    {
     "cell_type": "code",
     "collapsed": false,
     "input": [
      "with model:\n",
      "    e1 = nengo.Ensemble(10, 1)\n",
      "    print(\"e1.radius =\", e1.radius)\n",
      "    print(\"Changing default radius to 2.0\")\n",
      "    model.config[nengo.Ensemble].radius = 2.0\n",
      "    e2 = nengo.Ensemble(10, 1)\n",
      "    print(\"e1.radius =\", e1.radius)\n",
      "    print(\"e2.radius =\", e2.radius)"
     ],
     "language": "python",
     "metadata": {},
     "outputs": [
      {
       "output_type": "stream",
       "stream": "stdout",
       "text": [
        "e1.radius = 1.5\n",
        "Changing default radius to 2.0\n",
        "e1.radius = 1.5\n",
        "e2.radius = 2.0\n"
       ]
      }
     ],
     "prompt_number": 12
    },
    {
     "cell_type": "markdown",
     "metadata": {},
     "source": [
      "#### Resetting to default\n",
      "\n",
      "If you ever wish to reset a value\n",
      "back to the default,\n",
      "you can remove it from the `config` object you modified."
     ]
    },
    {
     "cell_type": "code",
     "collapsed": false,
     "input": [
      "with model:\n",
      "    e1 = nengo.Ensemble(10, 1)\n",
      "    print(\"e1.radius =\", e1.radius)\n",
      "    print(\"Resetting radius back to default\")\n",
      "    del model.config[nengo.Ensemble].radius\n",
      "    print(\"\\n\" + str(model.config[nengo.Ensemble]) + \"\\n\")\n",
      "    e2 = nengo.Ensemble(10, 1)\n",
      "    print(\"e2.radius =\", e2.radius)"
     ],
     "language": "python",
     "metadata": {},
     "outputs": [
      {
       "output_type": "stream",
       "stream": "stdout",
       "text": [
        "e1.radius = 2.0\n",
        "Resetting radius back to default\n",
        "\n",
        "No parameters configured for Ensemble.\n",
        "\n",
        "e2.radius = 1.0\n"
       ]
      }
     ],
     "prompt_number": 13
    },
    {
     "cell_type": "markdown",
     "metadata": {},
     "source": [
      "#### Making new `config`s\n",
      "\n",
      "Typically, several Nengo objects\n",
      "will share a set of parameters,\n",
      "but won't make sense to encapsulate in a network.\n",
      "One method of having those objects share parameters\n",
      "is to use dictionary unpacking."
     ]
    },
    {
     "cell_type": "code",
     "collapsed": false,
     "input": [
      "with nengo.Network():\n",
      "    hippocampus_args = {'radius': 1.5, 'neuron_type': nengo.LIFRate()}\n",
      "    e1 = nengo.Ensemble(100, 2, **hippocampus_args)\n",
      "    e2 = nengo.Ensemble(150, 3, **hippocampus_args)\n",
      "    e3 = nengo.Ensemble(200, 4, **hippocampus_args)\n",
      "print(e1.radius, e2.radius, e3.radius)"
     ],
     "language": "python",
     "metadata": {},
     "outputs": [
      {
       "output_type": "stream",
       "stream": "stdout",
       "text": [
        "1.5 1.5 1.5\n"
       ]
      }
     ],
     "prompt_number": 14
    },
    {
     "cell_type": "markdown",
     "metadata": {},
     "source": [
      "An alternative method that can be very useful\n",
      "for large networks and for more readable models\n",
      "is to create a new `config` object\n",
      "to encapsulate those parameter settings."
     ]
    },
    {
     "cell_type": "code",
     "collapsed": false,
     "input": [
      "in_hippocampus = nengo.Config(nengo.Ensemble)\n",
      "in_hippocampus[nengo.Ensemble].radius = 1.5\n",
      "in_hippocampus[nengo.Ensemble].neuron_type = nengo.LIFRate()\n",
      "\n",
      "with nengo.Network():\n",
      "    with in_hippocampus:\n",
      "        e1 = nengo.Ensemble(100, 2)\n",
      "        e2 = nengo.Ensemble(150, 3)\n",
      "        e3 = nengo.Ensemble(200, 4)\n",
      "print(e1.radius, e2.radius, e3.radius)"
     ],
     "language": "python",
     "metadata": {},
     "outputs": [
      {
       "output_type": "stream",
       "stream": "stdout",
       "text": [
        "1.5 1.5 1.5\n"
       ]
      }
     ],
     "prompt_number": 15
    },
    {
     "cell_type": "markdown",
     "metadata": {},
     "source": [
      "## Advanced: adding new parameters\n",
      "\n",
      "This section is targetted to those\n",
      "implementing new backends\n",
      "or large libraries of networks\n",
      "(like, for example, `nengo.SPA`).\n",
      "\n",
      "Often, you want to associate some kind of\n",
      "metadata with a Nengo object,\n",
      "or a type of Nengo objects.\n",
      "For example, in backends\n",
      "that communicate with specific hardware,\n",
      "it can be helpful to mark certain nodes\n",
      "as being time-dependent,\n",
      "or to assign certain ensembles\n",
      "to a particular portion of the hardware memory.\n",
      "\n",
      "Python allows us to make new attributes\n",
      "on Nengo objects.\n",
      "However, we highly discourage this activity,\n",
      "because a Nengo object should be\n",
      "a backend-agnostic part of a model.\n",
      "The parameters pre-defined on Nengo objects\n",
      "make up the parameters that all backends\n",
      "should deal with in some way.\n",
      "\n",
      "For this reason, we raise a warning\n",
      "when creating a new attribute."
     ]
    },
    {
     "cell_type": "code",
     "collapsed": false,
     "input": [
      "with nengo.Network():\n",
      "    ens = nengo.Ensemble(10, 1)\n",
      "    ens.memory_location = 0x1000"
     ],
     "language": "python",
     "metadata": {},
     "outputs": [
      {
       "output_type": "stream",
       "stream": "stderr",
       "text": [
        "/home/tbekolay/Code/nengo/nengo/base.py:73: SyntaxWarning: Creating new attribute 'memory_location' on '<Ensemble (unlabeled) at 0x7f12e1287150>'. Did you mean to change an existing attribute?\n",
        "  SyntaxWarning)\n"
       ]
      }
     ],
     "prompt_number": 16
    },
    {
     "cell_type": "markdown",
     "metadata": {},
     "source": [
      "So how should backends associate arbitrary information\n",
      "with Nengo objects?\n",
      "The `config` system!\n",
      "\n",
      "We saw above that we can create new `config` objects\n",
      "by specifying which Nengo objects they can configure.\n",
      "We can also create new parameters\n",
      "on those `config` objects."
     ]
    },
    {
     "cell_type": "code",
     "collapsed": false,
     "input": [
      "import nengo.params\n",
      "my_config = nengo.Config(nengo.Ensemble)\n",
      "# memory_location must be a positive integer\n",
      "my_config[nengo.Ensemble].set_param(\n",
      "    'memory_location',\n",
      "    nengo.params.IntParam('memory_location', default=None, optional=True, low=0))"
     ],
     "language": "python",
     "metadata": {},
     "outputs": [],
     "prompt_number": 17
    },
    {
     "cell_type": "markdown",
     "metadata": {},
     "source": [
      "Now, we can set that parameter\n",
      "for the `nengo.Ensemble` class as a whole,\n",
      "or with individual instances."
     ]
    },
    {
     "cell_type": "code",
     "collapsed": false,
     "input": [
      "# Make the network (this code is backend-agnostic)\n",
      "with nengo.Network():\n",
      "    e1 = nengo.Ensemble(10, 1)\n",
      "    e2 = nengo.Ensemble(10, 1)\n",
      "\n",
      "# Set backend-specific parameters\n",
      "my_config[nengo.Ensemble].memory_location = 0x1000  # Set Ensemble default\n",
      "my_config[e2].memory_location = 0x2000  # Set value for e2\n",
      "\n",
      "print('e1 will be stored at 0x%x' % my_config[e1].memory_location)\n",
      "print('e2 will be stored at 0x%x' % my_config[e2].memory_location)"
     ],
     "language": "python",
     "metadata": {},
     "outputs": [
      {
       "output_type": "stream",
       "stream": "stdout",
       "text": [
        "e1 will be stored at 0x1000\n",
        "e2 will be stored at 0x2000\n"
       ]
      }
     ],
     "prompt_number": 18
    },
    {
     "cell_type": "markdown",
     "metadata": {},
     "source": [
      "`Parameter` types for the most common Python objects\n",
      "are available in `nengo.params`,\n",
      "as well as other types that Nengo uses frequently,\n",
      "but it is possible to implement your own\n",
      "in order to do additional processing\n",
      "like validation.\n",
      "See the `nengo.params` source\n",
      "for examples."
     ]
    },
    {
     "cell_type": "code",
     "collapsed": false,
     "input": [
      "[cls for cls in dir(nengo.params) if cls.endswith('Param')]"
     ],
     "language": "python",
     "metadata": {},
     "outputs": [
      {
       "output_type": "pyout",
       "prompt_number": 19,
       "text": [
        "['BoolParam',\n",
        " 'DictParam',\n",
        " 'EnumParam',\n",
        " 'FunctionParam',\n",
        " 'IntParam',\n",
        " 'NdarrayParam',\n",
        " 'NumberParam',\n",
        " 'ObsoleteParam',\n",
        " 'StringParam',\n",
        " 'TupleParam']"
       ]
      }
     ],
     "prompt_number": 19
    }
   ],
   "metadata": {}
  }
 ]
}