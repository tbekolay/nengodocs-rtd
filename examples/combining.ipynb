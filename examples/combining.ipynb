{
 "metadata": {
  "name": ""
 },
 "nbformat": 3,
 "nbformat_minor": 0,
 "worksheets": [
  {
   "cells": [
    {
     "cell_type": "markdown",
     "metadata": {},
     "source": [
      "# Nengo Example: Combining\n",
      "\n",
      "This example demonstrates how to create a neuronal ensemble that will combine two 1-D inputs into one 2-D representation."
     ]
    },
    {
     "cell_type": "code",
     "collapsed": false,
     "input": [
      "import matplotlib.pyplot as plt\n",
      "%matplotlib inline\n",
      "\n",
      "import nengo\n",
      "%load_ext nengo.ipynb"
     ],
     "language": "python",
     "metadata": {},
     "outputs": [
      {
       "output_type": "display_data",
       "text": [
        "<IPython.core.display.Javascript at 0x7fe514042050>"
       ]
      }
     ],
     "prompt_number": 1
    },
    {
     "cell_type": "markdown",
     "metadata": {},
     "source": [
      "## Step 1: Create the neural populations \n",
      "\n",
      "Our model consists of three ensembles, two input ensembles and one 2-D ensemble that will represent the two inputs as one two-dimensional signal."
     ]
    },
    {
     "cell_type": "code",
     "collapsed": false,
     "input": [
      "model = nengo.Network(label='Combining')\n",
      "with model:\n",
      "    # Our input ensembles consist of 100 leaky integrate-and-fire neurons,\n",
      "    # representing a one-dimensional signal\n",
      "    A = nengo.Ensemble(100, dimensions=1)\n",
      "    B = nengo.Ensemble(100, dimensions=1)\n",
      "    \n",
      "    # The output ensemble consists of 200 leaky integrate-and-fire neurons,\n",
      "    # representing a two-dimensional signal\n",
      "    output = nengo.Ensemble(200, dimensions=2, label='2D Population')"
     ],
     "language": "python",
     "metadata": {},
     "outputs": [],
     "prompt_number": 2
    },
    {
     "cell_type": "markdown",
     "metadata": {},
     "source": [
      "## Step 2: Create input for the model\n",
      "\n",
      "We will use sine and cosine waves as examples of continuously changing signals."
     ]
    },
    {
     "cell_type": "code",
     "collapsed": false,
     "input": [
      "import numpy as np\n",
      "with model:\n",
      "    # Create input nodes generating the sine and cosine\n",
      "    sin = nengo.Node(output=np.sin)\n",
      "    cos = nengo.Node(output=np.cos)"
     ],
     "language": "python",
     "metadata": {},
     "outputs": [],
     "prompt_number": 3
    },
    {
     "cell_type": "markdown",
     "metadata": {},
     "source": [
      "## Step 3: Connect the network elements"
     ]
    },
    {
     "cell_type": "code",
     "collapsed": false,
     "input": [
      "with model:\n",
      "    nengo.Connection(sin, A)\n",
      "    nengo.Connection(cos, B)\n",
      "    \n",
      "    # The square brackets define which dimension the input will project to\n",
      "    nengo.Connection(A, output[1])\n",
      "    nengo.Connection(B, output[0])"
     ],
     "language": "python",
     "metadata": {},
     "outputs": [],
     "prompt_number": 4
    },
    {
     "cell_type": "markdown",
     "metadata": {},
     "source": [
      "## Step 4: Probe outputs\n",
      "\n",
      "Anything that is probed will collect the data it produces over time, allowing us to analyze and visualize it later."
     ]
    },
    {
     "cell_type": "code",
     "collapsed": false,
     "input": [
      "with model:\n",
      "    sin_probe = nengo.Probe(sin)\n",
      "    cos_probe = nengo.Probe(cos)\n",
      "    A_probe = nengo.Probe(A, synapse=0.01)  # 10ms filter\n",
      "    B_probe = nengo.Probe(B, synapse=0.01)  # 10ms filter\n",
      "    out_probe = nengo.Probe(output, synapse=0.01)  # 10ms filter"
     ],
     "language": "python",
     "metadata": {},
     "outputs": [],
     "prompt_number": 5
    },
    {
     "cell_type": "markdown",
     "metadata": {},
     "source": [
      "## Step 5: Run the model"
     ]
    },
    {
     "cell_type": "code",
     "collapsed": false,
     "input": [
      "# Create our simulator\n",
      "with nengo.Simulator(model) as sim:\n",
      "    # Run it for 5 seconds\n",
      "    sim.run(5)"
     ],
     "language": "python",
     "metadata": {},
     "outputs": [],
     "prompt_number": 6
    },
    {
     "cell_type": "markdown",
     "metadata": {},
     "source": [
      "## Step 6: Plot the results"
     ]
    },
    {
     "cell_type": "code",
     "collapsed": false,
     "input": [
      "# Plot the decoded output of the ensemble\n",
      "plt.plot(sim.trange(), sim.data[out_probe], label=\"2D output\")\n",
      "plt.plot(sim.trange(), sim.data[A_probe], label=\"A output\")\n",
      "plt.plot(sim.trange(), sim.data[sin_probe], 'k', label=\"Sine\")\n",
      "plt.legend()"
     ],
     "language": "python",
     "metadata": {},
     "outputs": [
      {
       "output_type": "pyout",
       "prompt_number": 7,
       "text": [
        "<matplotlib.legend.Legend at 0x7fe4d85ff150>"
       ]
      },
      {
       "output_type": "display_data",
       "png": "[encoded data removed]",
       "text": [
        "<matplotlib.figure.Figure at 0x7fe4d86e00d0>"
       ]
      }
     ],
     "prompt_number": 7
    },
    {
     "cell_type": "markdown",
     "metadata": {},
     "source": [
      "The graph shows that the input signal (Sine), the output from the 1D population (A output), and the 2D population (blue line) are all equal.  The other dimension in the 2D population is shown in green."
     ]
    }
   ],
   "metadata": {}
  }
 ]
}