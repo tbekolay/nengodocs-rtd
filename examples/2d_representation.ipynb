{
 "metadata": {
  "name": ""
 },
 "nbformat": 3,
 "nbformat_minor": 0,
 "worksheets": [
  {
   "cells": [
    {
     "cell_type": "markdown",
     "metadata": {},
     "source": [
      "# Nengo Example: 2-Dimensional Representation\n",
      "\n",
      "Ensembles of neurons represent information. In Nengo, we represent that information with real-valued vectors -- lists of numbers. In this example, we will represent a two-dimensional vector with a single ensemble of leaky integrate-and-fire neurons."
     ]
    },
    {
     "cell_type": "markdown",
     "metadata": {},
     "source": [
      "## Step 1: Create the network\n",
      "\n",
      "Our model consists of a single ensemble, which we will call `Neurons`. It will represent a two-dimensional signal."
     ]
    },
    {
     "cell_type": "code",
     "collapsed": false,
     "input": [
      "import matplotlib.pyplot as plt\n",
      "%matplotlib inline\n",
      "\n",
      "import nengo\n",
      "%load_ext nengo.ipynb\n",
      "\n",
      "model = nengo.Network(label='2D Representation')\n",
      "with model:\n",
      "    # Our ensemble consists of 100 leaky integrate-and-fire neurons,\n",
      "    # and represents a 2-dimensional signal\n",
      "    neurons = nengo.Ensemble(100, dimensions=2)"
     ],
     "language": "python",
     "metadata": {},
     "outputs": [
      {
       "output_type": "display_data",
       "text": [
        "<IPython.core.display.Javascript at 0x7f4a44762490>"
       ]
      }
     ],
     "prompt_number": 1
    },
    {
     "cell_type": "markdown",
     "metadata": {},
     "source": [
      "## Step 2: Provide input to the model\n",
      "\n",
      "The signal that an ensemble represents varies over time. We will use a simple sine and cosine wave as examples of continuously changing signals."
     ]
    },
    {
     "cell_type": "code",
     "collapsed": false,
     "input": [
      "import numpy as np\n",
      "with model:\n",
      "    # Create input nodes representing the sine and cosine\n",
      "    sin = nengo.Node(output=np.sin)\n",
      "    cos = nengo.Node(output=np.cos)"
     ],
     "language": "python",
     "metadata": {},
     "outputs": [],
     "prompt_number": 2
    },
    {
     "cell_type": "markdown",
     "metadata": {},
     "source": [
      "## Step 3: Connect the input to the ensemble"
     ]
    },
    {
     "cell_type": "code",
     "collapsed": false,
     "input": [
      "with model:\n",
      "    # The indices in neurons define which dimension the input will project to\n",
      "    nengo.Connection(sin, neurons[0])\n",
      "    nengo.Connection(cos, neurons[1])"
     ],
     "language": "python",
     "metadata": {},
     "outputs": [],
     "prompt_number": 3
    },
    {
     "cell_type": "markdown",
     "metadata": {},
     "source": [
      "## Step 4: Probe outputs\n",
      "\n",
      "Anything that is probed will collect the data it produces over time, allowing us to analyze and visualize it later. Let's collect all the data produced."
     ]
    },
    {
     "cell_type": "code",
     "collapsed": false,
     "input": [
      "with model:\n",
      "    sin_probe = nengo.Probe(sin, 'output')\n",
      "    cos_probe = nengo.Probe(cos, 'output')\n",
      "    neurons_probe = nengo.Probe(neurons, 'decoded_output', synapse=0.01)  "
     ],
     "language": "python",
     "metadata": {},
     "outputs": [],
     "prompt_number": 4
    },
    {
     "cell_type": "markdown",
     "metadata": {},
     "source": [
      "## Step 5: Run the model\n",
      "\n",
      "In order to run the model, we have to create a simulator. Then, we can run that simulator over and over again without affecting the original model."
     ]
    },
    {
     "cell_type": "code",
     "collapsed": false,
     "input": [
      "# Create our simulator\n",
      "with nengo.Simulator(model) as sim:\n",
      "    # Run it for 5 seconds\n",
      "    sim.run(5)"
     ],
     "language": "python",
     "metadata": {},
     "outputs": [],
     "prompt_number": 5
    },
    {
     "cell_type": "code",
     "collapsed": false,
     "input": [
      "# Plot the decoded output of the ensemble\n",
      "plt.plot(sim.trange(), sim.data[neurons_probe], label=\"Decoded output\")\n",
      "plt.plot(sim.trange(), sim.data[sin_probe], 'r', label=\"Sine\")\n",
      "plt.plot(sim.trange(), sim.data[cos_probe], 'k', label=\"Cosine\")\n",
      "plt.legend()\n",
      "plt.xlabel('time [s]');"
     ],
     "language": "python",
     "metadata": {},
     "outputs": [
      {
       "output_type": "display_data",
       "png": "[encoded data removed]",
       "text": [
        "<matplotlib.figure.Figure at 0x7f4a0876ac50>"
       ]
      }
     ],
     "prompt_number": 6
    }
   ],
   "metadata": {}
  }
 ]
}